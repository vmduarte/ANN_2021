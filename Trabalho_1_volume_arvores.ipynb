{
  "nbformat": 4,
  "nbformat_minor": 0,
  "metadata": {
    "colab": {
      "name": "Cópia de Untitled1.ipynb",
      "provenance": [],
      "authorship_tag": "ABX9TyM3QVTyUr0f5gXf7pCG3Xso",
      "include_colab_link": true
    },
    "kernelspec": {
      "name": "python3",
      "display_name": "Python 3"
    }
  },
  "cells": [
    {
      "cell_type": "markdown",
      "metadata": {
        "id": "view-in-github",
        "colab_type": "text"
      },
      "source": [
        "<a href=\"https://colab.research.google.com/github/vmduarte/ANN_2021/blob/main/Trabalho_1_volume_arvores.ipynb\" target=\"_parent\"><img src=\"https://colab.research.google.com/assets/colab-badge.svg\" alt=\"Open In Colab\"/></a>"
      ]
    },
    {
      "cell_type": "code",
      "metadata": {
        "id": "KoGS7OwGKb6b"
      },
      "source": [
        "# bibliotecas usadas\n",
        "import os\n",
        "import numpy as np\n",
        "import pandas as pd\n",
        "import matplotlib.pyplot as plt\n",
        "from sklearn.neural_network import MLPRegressor\n",
        "from sklearn.metrics import mean_squared_error\n",
        "from sklearn.metrics import r2_score"
      ],
      "execution_count": 14,
      "outputs": []
    },
    {
      "cell_type": "code",
      "metadata": {
        "id": "WARI3hhvIZ1F"
      },
      "source": [
        "# para gerar o grafico no browser\n",
        "%matplotlib inline"
      ],
      "execution_count": 15,
      "outputs": []
    },
    {
      "cell_type": "code",
      "metadata": {
        "colab": {
          "base_uri": "https://localhost:8080/"
        },
        "id": "cqJBT1XcBocj",
        "outputId": "21b0efc9-35da-4fc9-b558-f38a081e6f44"
      },
      "source": [
        "!git clone https://github.com/vmduarte/ANN_2021/\n",
        "%cd ANN_2021"
      ],
      "execution_count": 16,
      "outputs": [
        {
          "output_type": "stream",
          "text": [
            "Cloning into 'ANN_2021'...\n",
            "warning: You appear to have cloned an empty repository.\n",
            "/content/ANN_2021\n"
          ],
          "name": "stdout"
        }
      ]
    },
    {
      "cell_type": "code",
      "metadata": {
        "id": "jNVF-GBJEU_6"
      },
      "source": [
        "# leitura dos dados\n",
        "df=pd.read_csv(\"Artigo_volume_arvores.csv\")"
      ],
      "execution_count": null,
      "outputs": []
    },
    {
      "cell_type": "code",
      "metadata": {
        "id": "rwF1w9L5Ex-R"
      },
      "source": [
        "df.head(3)"
      ],
      "execution_count": null,
      "outputs": []
    },
    {
      "cell_type": "code",
      "metadata": {
        "id": "pBaIiVlyE1Cb"
      },
      "source": [
        "df.tail(3)"
      ],
      "execution_count": null,
      "outputs": []
    },
    {
      "cell_type": "code",
      "metadata": {
        "id": "vm0PuyZUFnJh"
      },
      "source": [
        "Dat_Select=df.iloc[:,1:]"
      ],
      "execution_count": null,
      "outputs": []
    },
    {
      "cell_type": "code",
      "metadata": {
        "id": "QyiQDc_7FqjF"
      },
      "source": [
        "Dat_Select.head(3)"
      ],
      "execution_count": null,
      "outputs": []
    },
    {
      "cell_type": "code",
      "metadata": {
        "id": "Pxl8mDLKGsGj"
      },
      "source": [
        "# separa os dados em normatizados e originais\n",
        "X = Dat_Select[['Local','Estatistica']]\n",
        "y = np.array(Dat_Select[['Volume']]).reshape(-1,1)"
      ],
      "execution_count": null,
      "outputs": []
    }
  ]
}